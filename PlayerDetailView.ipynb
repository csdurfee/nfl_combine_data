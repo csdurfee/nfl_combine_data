{
 "cells": [
  {
   "cell_type": "code",
   "execution_count": 1,
   "metadata": {},
   "outputs": [
    {
     "name": "stderr",
     "output_type": "stream",
     "text": [
      "/Users/caseydurfee/.virtualenvs/py3-data/lib/python3.9/site-packages/requests/__init__.py:102: RequestsDependencyWarning: urllib3 (1.26.8) or chardet (5.0.0)/charset_normalizer (2.0.11) doesn't match a supported version!\n",
      "  warnings.warn(\"urllib3 ({}) or chardet ({})/charset_normalizer ({}) doesn't match a supported \"\n"
     ]
    }
   ],
   "source": [
    "import get_combine_data\n",
    "import pandas as pd\n",
    "import numpy as np\n",
    "import altair as alt"
   ]
  },
  {
   "cell_type": "markdown",
   "metadata": {},
   "source": [
    "just get data for one position. clean data frame with only the quantile measurements."
   ]
  },
  {
   "cell_type": "code",
   "execution_count": 2,
   "metadata": {},
   "outputs": [
    {
     "name": "stdout",
     "output_type": "stream",
     "text": [
      "on position P, can't do metric Vertical\n",
      "on position K, can't do metric Vertical\n",
      "on position QB, can't do metric Bench\n",
      "on position P, can't do metric Bench\n",
      "on position K, can't do metric Bench\n",
      "on position P, can't do metric Broad Jump\n",
      "on position K, can't do metric Broad Jump\n",
      "on position P, can't do metric 3Cone\n",
      "on position K, can't do metric 3Cone\n",
      "on position P, can't do metric Shuttle\n",
      "on position K, can't do metric Shuttle\n"
     ]
    },
    {
     "data": {
      "text/html": [
       "<div>\n",
       "<style scoped>\n",
       "    .dataframe tbody tr th:only-of-type {\n",
       "        vertical-align: middle;\n",
       "    }\n",
       "\n",
       "    .dataframe tbody tr th {\n",
       "        vertical-align: top;\n",
       "    }\n",
       "\n",
       "    .dataframe thead th {\n",
       "        text-align: right;\n",
       "    }\n",
       "</style>\n",
       "<table border=\"1\" class=\"dataframe\">\n",
       "  <thead>\n",
       "    <tr style=\"text-align: right;\">\n",
       "      <th></th>\n",
       "      <th>Player</th>\n",
       "      <th>Pos</th>\n",
       "      <th>School</th>\n",
       "      <th>Ht</th>\n",
       "      <th>Wt</th>\n",
       "      <th>40yd</th>\n",
       "      <th>Vertical</th>\n",
       "      <th>Bench</th>\n",
       "      <th>Broad Jump</th>\n",
       "      <th>3Cone</th>\n",
       "      <th>...</th>\n",
       "      <th>q_Broad Jump</th>\n",
       "      <th>q_3Cone</th>\n",
       "      <th>q_Shuttle</th>\n",
       "      <th>pos_d_40yd</th>\n",
       "      <th>pos_d_Vertical</th>\n",
       "      <th>pos_d_Bench</th>\n",
       "      <th>pos_d_Broad Jump</th>\n",
       "      <th>pos_d_3Cone</th>\n",
       "      <th>pos_d_Shuttle</th>\n",
       "      <th>composite_score</th>\n",
       "    </tr>\n",
       "  </thead>\n",
       "  <tbody>\n",
       "    <tr>\n",
       "      <th>0</th>\n",
       "      <td>John Abraham</td>\n",
       "      <td>OLB</td>\n",
       "      <td>South Carolina</td>\n",
       "      <td>6-4</td>\n",
       "      <td>252.0</td>\n",
       "      <td>4.55</td>\n",
       "      <td>NaN</td>\n",
       "      <td>NaN</td>\n",
       "      <td>NaN</td>\n",
       "      <td>NaN</td>\n",
       "      <td>...</td>\n",
       "      <td>NaN</td>\n",
       "      <td>NaN</td>\n",
       "      <td>NaN</td>\n",
       "      <td>8.0</td>\n",
       "      <td>NaN</td>\n",
       "      <td>NaN</td>\n",
       "      <td>NaN</td>\n",
       "      <td>NaN</td>\n",
       "      <td>NaN</td>\n",
       "      <td>8.000000</td>\n",
       "    </tr>\n",
       "    <tr>\n",
       "      <th>1</th>\n",
       "      <td>Shaun Alexander</td>\n",
       "      <td>RB</td>\n",
       "      <td>Alabama</td>\n",
       "      <td>6-0</td>\n",
       "      <td>218.0</td>\n",
       "      <td>4.58</td>\n",
       "      <td>NaN</td>\n",
       "      <td>NaN</td>\n",
       "      <td>NaN</td>\n",
       "      <td>NaN</td>\n",
       "      <td>...</td>\n",
       "      <td>NaN</td>\n",
       "      <td>NaN</td>\n",
       "      <td>NaN</td>\n",
       "      <td>2.0</td>\n",
       "      <td>NaN</td>\n",
       "      <td>NaN</td>\n",
       "      <td>NaN</td>\n",
       "      <td>NaN</td>\n",
       "      <td>NaN</td>\n",
       "      <td>2.000000</td>\n",
       "    </tr>\n",
       "    <tr>\n",
       "      <th>2</th>\n",
       "      <td>Darnell Alford</td>\n",
       "      <td>OT</td>\n",
       "      <td>Boston Col.</td>\n",
       "      <td>6-4</td>\n",
       "      <td>334.0</td>\n",
       "      <td>5.56</td>\n",
       "      <td>25.0</td>\n",
       "      <td>23.0</td>\n",
       "      <td>94.0</td>\n",
       "      <td>8.48</td>\n",
       "      <td>...</td>\n",
       "      <td>1.0</td>\n",
       "      <td>0.0</td>\n",
       "      <td>2.0</td>\n",
       "      <td>0.0</td>\n",
       "      <td>1.0</td>\n",
       "      <td>3.0</td>\n",
       "      <td>0.0</td>\n",
       "      <td>0.0</td>\n",
       "      <td>0.0</td>\n",
       "      <td>0.666667</td>\n",
       "    </tr>\n",
       "    <tr>\n",
       "      <th>4</th>\n",
       "      <td>Rashard Anderson</td>\n",
       "      <td>CB</td>\n",
       "      <td>Jackson State</td>\n",
       "      <td>6-2</td>\n",
       "      <td>206.0</td>\n",
       "      <td>4.55</td>\n",
       "      <td>34.0</td>\n",
       "      <td>NaN</td>\n",
       "      <td>123.0</td>\n",
       "      <td>7.18</td>\n",
       "      <td>...</td>\n",
       "      <td>78.0</td>\n",
       "      <td>47.0</td>\n",
       "      <td>78.0</td>\n",
       "      <td>1.0</td>\n",
       "      <td>1.0</td>\n",
       "      <td>NaN</td>\n",
       "      <td>5.0</td>\n",
       "      <td>1.0</td>\n",
       "      <td>4.0</td>\n",
       "      <td>2.400000</td>\n",
       "    </tr>\n",
       "    <tr>\n",
       "      <th>6</th>\n",
       "      <td>LaVar Arrington</td>\n",
       "      <td>OLB</td>\n",
       "      <td>Penn State</td>\n",
       "      <td>6-3</td>\n",
       "      <td>250.0</td>\n",
       "      <td>4.53</td>\n",
       "      <td>NaN</td>\n",
       "      <td>NaN</td>\n",
       "      <td>NaN</td>\n",
       "      <td>NaN</td>\n",
       "      <td>...</td>\n",
       "      <td>NaN</td>\n",
       "      <td>NaN</td>\n",
       "      <td>NaN</td>\n",
       "      <td>8.0</td>\n",
       "      <td>NaN</td>\n",
       "      <td>NaN</td>\n",
       "      <td>NaN</td>\n",
       "      <td>NaN</td>\n",
       "      <td>NaN</td>\n",
       "      <td>8.000000</td>\n",
       "    </tr>\n",
       "  </tbody>\n",
       "</table>\n",
       "<p>5 rows × 32 columns</p>\n",
       "</div>"
      ],
      "text/plain": [
       "             Player  Pos          School   Ht     Wt  40yd  Vertical  Bench  \\\n",
       "0      John Abraham  OLB  South Carolina  6-4  252.0  4.55       NaN    NaN   \n",
       "1   Shaun Alexander   RB         Alabama  6-0  218.0  4.58       NaN    NaN   \n",
       "2    Darnell Alford   OT     Boston Col.  6-4  334.0  5.56      25.0   23.0   \n",
       "4  Rashard Anderson   CB   Jackson State  6-2  206.0  4.55      34.0    NaN   \n",
       "6   LaVar Arrington  OLB      Penn State  6-3  250.0  4.53       NaN    NaN   \n",
       "\n",
       "   Broad Jump  3Cone  ...  q_Broad Jump q_3Cone  q_Shuttle pos_d_40yd  \\\n",
       "0         NaN    NaN  ...           NaN     NaN        NaN        8.0   \n",
       "1         NaN    NaN  ...           NaN     NaN        NaN        2.0   \n",
       "2        94.0   8.48  ...           1.0     0.0        2.0        0.0   \n",
       "4       123.0   7.18  ...          78.0    47.0       78.0        1.0   \n",
       "6         NaN    NaN  ...           NaN     NaN        NaN        8.0   \n",
       "\n",
       "  pos_d_Vertical pos_d_Bench pos_d_Broad Jump  pos_d_3Cone pos_d_Shuttle  \\\n",
       "0            NaN         NaN              NaN          NaN           NaN   \n",
       "1            NaN         NaN              NaN          NaN           NaN   \n",
       "2            1.0         3.0              0.0          0.0           0.0   \n",
       "4            1.0         NaN              5.0          1.0           4.0   \n",
       "6            NaN         NaN              NaN          NaN           NaN   \n",
       "\n",
       "   composite_score  \n",
       "0         8.000000  \n",
       "1         2.000000  \n",
       "2         0.666667  \n",
       "4         2.400000  \n",
       "6         8.000000  \n",
       "\n",
       "[5 rows x 32 columns]"
      ]
     },
     "execution_count": 2,
     "metadata": {},
     "output_type": "execute_result"
    }
   ],
   "source": [
    "all_data = get_combine_data.get_data(drafted_only=True)\n",
    "\n",
    "all_data.head()"
   ]
  },
  {
   "cell_type": "code",
   "execution_count": 13,
   "metadata": {},
   "outputs": [
    {
     "data": {
      "text/plain": [
       "['q_40yd', 'q_Vertical', 'q_Bench', 'q_Broad Jump', 'q_3Cone', 'q_Shuttle']"
      ]
     },
     "execution_count": 13,
     "metadata": {},
     "output_type": "execute_result"
    }
   ],
   "source": [
    "quantile_cols = all_data.columns[all_data.columns.str.startswith(\"q_\")]\n",
    "#quantile_cols = quantile_cols.append(\"Player\") # might want their names\n",
    "\n",
    "list(quantile_cols)"
   ]
  },
  {
   "cell_type": "code",
   "execution_count": 11,
   "metadata": {},
   "outputs": [
    {
     "data": {
      "text/html": [
       "<div>\n",
       "<style scoped>\n",
       "    .dataframe tbody tr th:only-of-type {\n",
       "        vertical-align: middle;\n",
       "    }\n",
       "\n",
       "    .dataframe tbody tr th {\n",
       "        vertical-align: top;\n",
       "    }\n",
       "\n",
       "    .dataframe thead th {\n",
       "        text-align: right;\n",
       "    }\n",
       "</style>\n",
       "<table border=\"1\" class=\"dataframe\">\n",
       "  <thead>\n",
       "    <tr style=\"text-align: right;\">\n",
       "      <th></th>\n",
       "      <th>q_40yd</th>\n",
       "      <th>q_Vertical</th>\n",
       "      <th>q_Bench</th>\n",
       "      <th>q_Broad Jump</th>\n",
       "      <th>q_3Cone</th>\n",
       "      <th>q_Shuttle</th>\n",
       "    </tr>\n",
       "  </thead>\n",
       "  <tbody>\n",
       "    <tr>\n",
       "      <th>1</th>\n",
       "      <td>62.0</td>\n",
       "      <td>NaN</td>\n",
       "      <td>NaN</td>\n",
       "      <td>NaN</td>\n",
       "      <td>NaN</td>\n",
       "      <td>NaN</td>\n",
       "    </tr>\n",
       "    <tr>\n",
       "      <th>41</th>\n",
       "      <td>92.0</td>\n",
       "      <td>NaN</td>\n",
       "      <td>28.0</td>\n",
       "      <td>NaN</td>\n",
       "      <td>NaN</td>\n",
       "      <td>NaN</td>\n",
       "    </tr>\n",
       "    <tr>\n",
       "      <th>48</th>\n",
       "      <td>65.0</td>\n",
       "      <td>88.0</td>\n",
       "      <td>18.0</td>\n",
       "      <td>92.0</td>\n",
       "      <td>86.0</td>\n",
       "      <td>70.0</td>\n",
       "    </tr>\n",
       "    <tr>\n",
       "      <th>77</th>\n",
       "      <td>51.0</td>\n",
       "      <td>NaN</td>\n",
       "      <td>NaN</td>\n",
       "      <td>NaN</td>\n",
       "      <td>NaN</td>\n",
       "      <td>NaN</td>\n",
       "    </tr>\n",
       "    <tr>\n",
       "      <th>81</th>\n",
       "      <td>50.0</td>\n",
       "      <td>20.0</td>\n",
       "      <td>7.0</td>\n",
       "      <td>42.0</td>\n",
       "      <td>35.0</td>\n",
       "      <td>37.0</td>\n",
       "    </tr>\n",
       "  </tbody>\n",
       "</table>\n",
       "</div>"
      ],
      "text/plain": [
       "    q_40yd  q_Vertical  q_Bench  q_Broad Jump  q_3Cone  q_Shuttle\n",
       "1     62.0         NaN      NaN           NaN      NaN        NaN\n",
       "41    92.0         NaN     28.0           NaN      NaN        NaN\n",
       "48    65.0        88.0     18.0          92.0     86.0       70.0\n",
       "77    51.0         NaN      NaN           NaN      NaN        NaN\n",
       "81    50.0        20.0      7.0          42.0     35.0       37.0"
      ]
     },
     "execution_count": 11,
     "metadata": {},
     "output_type": "execute_result"
    }
   ],
   "source": [
    "running_backs = all_data[all_data.Pos == \"RB\"]\n",
    "\n",
    "quantile_data = running_backs.loc[:, quantile_cols]\n",
    "\n",
    "quantile_data.head()"
   ]
  },
  {
   "cell_type": "markdown",
   "metadata": {},
   "source": [
    "ok, so I really like the look of this ridgeline plot: https://altair-viz.github.io/gallery/ridgeline_plot.html\n",
    "\n",
    "but I'm getting impedence fitting my data into the format it wants. so I'll start simple.  taken from: https://altair-viz.github.io/gallery/density_facet.html\n"
   ]
  },
  {
   "cell_type": "code",
   "execution_count": null,
   "metadata": {},
   "outputs": [],
   "source": [
    "import altair as alt\n",
    "from vega_datasets import data\n",
    "\n",
    "source = data.iris()\n",
    "\n",
    "alt.Chart(source).transform_fold(\n",
    "    ['petalWidth',\n",
    "     'petalLength',\n",
    "     'sepalWidth',\n",
    "     'sepalLength'],\n",
    "    as_ = ['Measurement_type', 'value']\n",
    ").transform_density(\n",
    "    density='value',\n",
    "    bandwidth=0.3,\n",
    "    groupby=['Measurement_type'],\n",
    "    extent= [0, 8]\n",
    ").mark_area().encode(\n",
    "    alt.X('value:Q'),\n",
    "    alt.Y('density:Q'),\n",
    "    alt.Row('Measurement_type:N')\n",
    ").properties(width=300, height=50)"
   ]
  },
  {
   "cell_type": "code",
   "execution_count": 19,
   "metadata": {},
   "outputs": [
    {
     "ename": "TypeError",
     "evalue": "'UndefinedType' object is not callable",
     "output_type": "error",
     "traceback": [
      "\u001b[0;31m---------------------------------------------------------------------------\u001b[0m",
      "\u001b[0;31mTypeError\u001b[0m                                 Traceback (most recent call last)",
      "Input \u001b[0;32mIn [19]\u001b[0m, in \u001b[0;36m<module>\u001b[0;34m\u001b[0m\n\u001b[1;32m      1\u001b[0m source \u001b[38;5;241m=\u001b[39m quantile_data\n\u001b[1;32m      4\u001b[0m alt\u001b[38;5;241m.\u001b[39mChart(source)\u001b[38;5;241m.\u001b[39mtransform_fold(\n\u001b[1;32m      5\u001b[0m     \u001b[38;5;28mlist\u001b[39m(quantile_cols),\n\u001b[1;32m      6\u001b[0m     as_ \u001b[38;5;241m=\u001b[39m [\u001b[38;5;124m'\u001b[39m\u001b[38;5;124mMeasurement_type\u001b[39m\u001b[38;5;124m'\u001b[39m, \u001b[38;5;124m'\u001b[39m\u001b[38;5;124mvalue\u001b[39m\u001b[38;5;124m'\u001b[39m]\n\u001b[1;32m      7\u001b[0m )\u001b[38;5;241m.\u001b[39mtransform_density(\n\u001b[1;32m      8\u001b[0m     density\u001b[38;5;241m=\u001b[39m\u001b[38;5;124m'\u001b[39m\u001b[38;5;124mvalue\u001b[39m\u001b[38;5;124m'\u001b[39m,\n\u001b[1;32m      9\u001b[0m     groupby\u001b[38;5;241m=\u001b[39m[\u001b[38;5;124m'\u001b[39m\u001b[38;5;124mMeasurement_type\u001b[39m\u001b[38;5;124m'\u001b[39m],\n\u001b[1;32m     10\u001b[0m     extent\u001b[38;5;241m=\u001b[39m [\u001b[38;5;241m0\u001b[39m, \u001b[38;5;241m100\u001b[39m]\n\u001b[1;32m     11\u001b[0m )\u001b[38;5;241m.\u001b[39mmark_area()\u001b[38;5;241m.\u001b[39mencode(\n\u001b[1;32m     12\u001b[0m     alt\u001b[38;5;241m.\u001b[39mX(\u001b[38;5;124m'\u001b[39m\u001b[38;5;124mvalue:Q\u001b[39m\u001b[38;5;124m'\u001b[39m),\n\u001b[0;32m---> 13\u001b[0m     \u001b[43malt\u001b[49m\u001b[38;5;241;43m.\u001b[39;49m\u001b[43mY\u001b[49m\u001b[43m(\u001b[49m\u001b[38;5;124;43m'\u001b[39;49m\u001b[38;5;124;43mdensity:Q\u001b[39;49m\u001b[38;5;124;43m'\u001b[39;49m\u001b[43m)\u001b[49m\u001b[38;5;241;43m.\u001b[39;49m\u001b[43mscale\u001b[49m\u001b[43m(\u001b[49m\u001b[43mdomain\u001b[49m\u001b[38;5;241;43m=\u001b[39;49m\u001b[43m[\u001b[49m\u001b[38;5;241;43m75\u001b[39;49m\u001b[43m,\u001b[49m\u001b[43m \u001b[49m\u001b[38;5;241;43m25\u001b[39;49m\u001b[43m]\u001b[49m\u001b[43m,\u001b[49m\u001b[43m \u001b[49m\u001b[43mscheme\u001b[49m\u001b[38;5;241;43m=\u001b[39;49m\u001b[38;5;124;43m'\u001b[39;49m\u001b[38;5;124;43mredyellowblue\u001b[39;49m\u001b[38;5;124;43m'\u001b[39;49m\u001b[43m)\u001b[49m,\n\u001b[1;32m     14\u001b[0m     alt\u001b[38;5;241m.\u001b[39mRow(\u001b[38;5;124m'\u001b[39m\u001b[38;5;124mMeasurement_type:N\u001b[39m\u001b[38;5;124m'\u001b[39m)\n\u001b[1;32m     15\u001b[0m )\u001b[38;5;241m.\u001b[39mproperties(width\u001b[38;5;241m=\u001b[39m\u001b[38;5;241m300\u001b[39m, height\u001b[38;5;241m=\u001b[39m\u001b[38;5;241m50\u001b[39m)\n",
      "\u001b[0;31mTypeError\u001b[0m: 'UndefinedType' object is not callable"
     ]
    }
   ],
   "source": [
    "source = quantile_data\n",
    "\n",
    "\n",
    "alt.Chart(source).transform_fold(\n",
    "    list(quantile_cols),\n",
    "    as_ = ['Measurement_type', 'value']\n",
    ").transform_density(\n",
    "    density='value',\n",
    "    groupby=['Measurement_type'],\n",
    "    extent= [0, 100]\n",
    ").mark_area().encode(\n",
    "    alt.X('value:Q'),\n",
    "    alt.Y('density:Q'), # todo alt.Fill().scale(domain=[75, 25], scheme='redyellowblue')\n",
    "    alt.Row('Measurement_type:N')\n",
    ").properties(width=300, height=50)"
   ]
  },
  {
   "cell_type": "markdown",
   "metadata": {},
   "source": [
    "so I'm struggling with how to get the fill color for each group...\n",
    "\n",
    "looks like from here I need to put the mean for each row. but this is a different data format (EAV)\n",
    "\n",
    "can I get the means in after the transform_fold call?\n",
    "\n",
    "https://altair-viz.github.io/altair-viz-v4/user_guide/transform/joinaggregate.html"
   ]
  },
  {
   "cell_type": "code",
   "execution_count": 15,
   "metadata": {},
   "outputs": [
    {
     "data": {
      "text/plain": [
       "<Axes: >"
      ]
     },
     "execution_count": 15,
     "metadata": {},
     "output_type": "execute_result"
    },
    {
     "data": {
      "image/png": "[encoded data removed]",
      "text/plain": [
       "<Figure size 432x288 with 1 Axes>"
      ]
     },
     "metadata": {
      "needs_background": "light"
     },
     "output_type": "display_data"
    }
   ],
   "source": [
    "quantile_data.q_Bench.hist()"
   ]
  },
  {
   "cell_type": "code",
   "execution_count": null,
   "metadata": {},
   "outputs": [],
   "source": []
  }
 ],
 "metadata": {
  "interpreter": {
   "hash": "3e5e67dba9ec50688b51d210d69127116c7da1f67ec0df7da4b6c1a14dc73fba"
  },
  "kernelspec": {
   "display_name": "Python 3.9.13 ('py3-data')",
   "language": "python",
   "name": "python3"
  },
  "language_info": {
   "codemirror_mode": {
    "name": "ipython",
    "version": 3
   },
   "file_extension": ".py",
   "mimetype": "text/x-python",
   "name": "python",
   "nbconvert_exporter": "python",
   "pygments_lexer": "ipython3",
   "version": "3.9.13"
  },
  "orig_nbformat": 4
 },
 "nbformat": 4,
 "nbformat_minor": 2
}
